{
 "cells": [
  {
   "cell_type": "code",
   "execution_count": 5,
   "metadata": {},
   "outputs": [],
   "source": [
    ">>> x = y = z = np.arange(0.0,5.0,1.0)\n",
    ">>> np.savetxt('test.out', x, delimiter=',')   # X is an array\n",
    ">>> np.savetxt('test.out', (x,y,z))   # x,y,z equal sized 1D arrays\n",
    ">>> np.savetxt('test.out', x, fmt='%1.4e')   # use exponential notation"
   ]
  },
  {
   "cell_type": "code",
   "execution_count": 7,
   "metadata": {},
   "outputs": [
    {
     "name": "stdout",
     "output_type": "stream",
     "text": [
      "Help on class Handler in module pyfes:\n",
      "\n",
      "class Handler(pybind11_builtins.pybind11_object)\n",
      " |  Method resolution order:\n",
      " |      Handler\n",
      " |      pybind11_builtins.pybind11_object\n",
      " |      builtins.object\n",
      " |  \n",
      " |  Methods defined here:\n",
      " |  \n",
      " |  __init__(...)\n",
      " |      __init__(self: pyfes.Handler, arg0: str, arg1: str, arg2: str) -> None\n",
      " |  \n",
      " |  calculate(...)\n",
      " |      calculate(self: pyfes.Handler, arg0: numpy.ndarray[float64], arg1: numpy.ndarray[float64], arg2: array) -> tuple\n",
      " |  \n",
      " |  set_buffer_size(...)\n",
      " |      set_buffer_size(self: pyfes.Handler, size: int) -> None\n",
      " |  \n",
      " |  ----------------------------------------------------------------------\n",
      " |  Static methods defined here:\n",
      " |  \n",
      " |  dump_template(...) from builtins.PyCapsule\n",
      " |      dump_template(path: str) -> None\n",
      " |  \n",
      " |  ----------------------------------------------------------------------\n",
      " |  Static methods inherited from pybind11_builtins.pybind11_object:\n",
      " |  \n",
      " |  __new__(*args, **kwargs) from pybind11_builtins.pybind11_type\n",
      " |      Create and return a new object.  See help(type) for accurate signature.\n",
      "\n"
     ]
    }
   ],
   "source": [
    "help(pyfes.Handler)"
   ]
  },
  {
   "cell_type": "code",
   "execution_count": null,
   "metadata": {},
   "outputs": [],
   "source": []
  }
 ],
 "metadata": {
  "kernelspec": {
   "display_name": "Python (fes)",
   "language": "python",
   "name": "fes"
  },
  "language_info": {
   "codemirror_mode": {
    "name": "ipython",
    "version": 3
   },
   "file_extension": ".py",
   "mimetype": "text/x-python",
   "name": "python",
   "nbconvert_exporter": "python",
   "pygments_lexer": "ipython3",
   "version": "3.7.4"
  }
 },
 "nbformat": 4,
 "nbformat_minor": 2
}
