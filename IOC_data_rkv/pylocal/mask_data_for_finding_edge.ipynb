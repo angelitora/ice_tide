{
 "cells": [
  {
   "cell_type": "code",
   "execution_count": 1,
   "metadata": {},
   "outputs": [
    {
     "name": "stderr",
     "output_type": "stream",
     "text": [
      "/home/angel/anaconda3/envs/fes/lib/python3.7/site-packages/xarray/core/merge.py:17: FutureWarning: The Panel class is removed from pandas. Accessing it from the top-level namespace will also be removed in the next version\n",
      "  PANDAS_TYPES = (pd.Series, pd.DataFrame, pd.Panel)\n"
     ]
    }
   ],
   "source": [
    "import fes\n",
    "import os\n",
    "import datetime\n",
    "import numpy as np\n",
    "import matplotlib.pyplot as plt\n",
    "import argparse\n",
    "import pandas as pd\n",
    "import xarray as xr"
   ]
  },
  {
   "cell_type": "code",
   "execution_count": 13,
   "metadata": {},
   "outputs": [],
   "source": [
    "temp = 15 + 8 * np.random.randn(2, 2, 3)\n",
    "precip = 10 * np.random.rand(2, 2, 3)"
   ]
  },
  {
   "cell_type": "code",
   "execution_count": 4,
   "metadata": {},
   "outputs": [
    {
     "data": {
      "text/plain": [
       "array([[[14.76224355, 24.6894998 ,  8.7175422 ],\n",
       "        [25.99370673, 13.36340327, 13.52912604]],\n",
       "\n",
       "       [[ 7.20874536, 16.18557368, 20.78016876],\n",
       "        [ 6.28661598,  9.9518429 ,  6.39330107]]])"
      ]
     },
     "execution_count": 4,
     "metadata": {},
     "output_type": "execute_result"
    }
   ],
   "source": [
    "temp"
   ]
  },
  {
   "cell_type": "code",
   "execution_count": 6,
   "metadata": {},
   "outputs": [
    {
     "data": {
      "text/plain": [
       "12"
      ]
     },
     "execution_count": 6,
     "metadata": {},
     "output_type": "execute_result"
    }
   ],
   "source": [
    "np.size(temp)"
   ]
  },
  {
   "cell_type": "code",
   "execution_count": 12,
   "metadata": {},
   "outputs": [
    {
     "data": {
      "text/plain": [
       "array([[14.76224355, 25.99370673],\n",
       "       [ 7.20874536,  6.28661598]])"
      ]
     },
     "execution_count": 12,
     "metadata": {},
     "output_type": "execute_result"
    }
   ],
   "source": [
    "temp[:,:,0]"
   ]
  },
  {
   "cell_type": "code",
   "execution_count": 14,
   "metadata": {},
   "outputs": [],
   "source": [
    "lon = [[-99.83, -99.32], [-99.79, -99.23]]"
   ]
  },
  {
   "cell_type": "code",
   "execution_count": 15,
   "metadata": {},
   "outputs": [],
   "source": [
    "lat = [[42.25, 42.21], [42.63, 42.59]]\n"
   ]
  },
  {
   "cell_type": "code",
   "execution_count": 24,
   "metadata": {},
   "outputs": [],
   "source": [
    "ds = xr.Dataset({'temperature': (['x', 'y', 'time'],  temp),\n",
    "   ....:                  'precipitation': (['x', 'y', 'time'], precip)},\n",
    "   ....:                 coords={'lon': (['x', 'y'], lon),\n",
    "   ....:                         'lat': (['x', 'y'], lat),\n",
    "   ....:                         'time': pd.date_range('2014-09-06', periods=3),\n",
    "   ....:                         'reference_time': pd.Timestamp('2014-09-05')})"
   ]
  },
  {
   "cell_type": "code",
   "execution_count": 22,
   "metadata": {},
   "outputs": [
    {
     "data": {
      "text/plain": [
       "DatetimeIndex(['2014-09-06', '2014-09-07', '2014-09-08'], dtype='datetime64[ns]', freq='D')"
      ]
     },
     "execution_count": 22,
     "metadata": {},
     "output_type": "execute_result"
    }
   ],
   "source": [
    "pd.date_range('2014-09-06', periods=3)"
   ]
  },
  {
   "cell_type": "code",
   "execution_count": 33,
   "metadata": {},
   "outputs": [
    {
     "name": "stdout",
     "output_type": "stream",
     "text": [
      "We're on time 0\n"
     ]
    },
    {
     "ename": "TypeError",
     "evalue": "list indices must be integers or slices, not tuple",
     "output_type": "error",
     "traceback": [
      "\u001b[0;31m---------------------------------------------------------------------------\u001b[0m",
      "\u001b[0;31mTypeError\u001b[0m                                 Traceback (most recent call last)",
      "\u001b[0;32m<ipython-input-33-9b6bf098238a>\u001b[0m in \u001b[0;36m<module>\u001b[0;34m\u001b[0m\n\u001b[1;32m      3\u001b[0m \u001b[0;32mfor\u001b[0m \u001b[0mm\u001b[0m \u001b[0;32min\u001b[0m \u001b[0mrange\u001b[0m\u001b[0;34m(\u001b[0m\u001b[0;36m0\u001b[0m\u001b[0;34m,\u001b[0m\u001b[0;36m10\u001b[0m\u001b[0;34m)\u001b[0m\u001b[0;34m:\u001b[0m\u001b[0;34m\u001b[0m\u001b[0;34m\u001b[0m\u001b[0m\n\u001b[1;32m      4\u001b[0m     \u001b[0mprint\u001b[0m\u001b[0;34m(\u001b[0m\u001b[0;34m\"We're on time %d\"\u001b[0m \u001b[0;34m%\u001b[0m \u001b[0;34m(\u001b[0m\u001b[0mm\u001b[0m\u001b[0;34m)\u001b[0m\u001b[0;34m)\u001b[0m\u001b[0;34m\u001b[0m\u001b[0;34m\u001b[0m\u001b[0m\n\u001b[0;32m----> 5\u001b[0;31m     \u001b[0mff\u001b[0m\u001b[0;34m[\u001b[0m\u001b[0;34m:\u001b[0m\u001b[0;34m,\u001b[0m\u001b[0mm\u001b[0m\u001b[0;34m]\u001b[0m\u001b[0;34m=\u001b[0m \u001b[0minit\u001b[0m \u001b[0;34m+\u001b[0m \u001b[0;34m(\u001b[0m \u001b[0mfloat\u001b[0m\u001b[0;34m(\u001b[0m\u001b[0mm\u001b[0m\u001b[0;34m)\u001b[0m \u001b[0;34m/\u001b[0m \u001b[0;36m100\u001b[0m \u001b[0;34m)\u001b[0m\u001b[0;34m\u001b[0m\u001b[0;34m\u001b[0m\u001b[0m\n\u001b[0m",
      "\u001b[0;31mTypeError\u001b[0m: list indices must be integers or slices, not tuple"
     ]
    }
   ],
   "source": [
    "ff = []\n",
    "init = float(0.9)\n",
    "for m in range(0,10):\n",
    "    print(\"We're on time %d\" % (m))\n",
    "    ff[:,m]= init + ( float(m) / 100 )"
   ]
  },
  {
   "cell_type": "code",
   "execution_count": 38,
   "metadata": {
    "scrolled": true
   },
   "outputs": [
    {
     "data": {
      "text/plain": [
       "(DatetimeIndex(['2018-01-01 00:00:00', '2018-01-01 01:00:00',\n",
       "                '2018-01-01 02:00:00', '2018-01-01 03:00:00',\n",
       "                '2018-01-01 04:00:00', '2018-01-01 05:00:00',\n",
       "                '2018-01-01 06:00:00', '2018-01-01 07:00:00',\n",
       "                '2018-01-01 08:00:00', '2018-01-01 09:00:00',\n",
       "                '2018-01-01 10:00:00', '2018-01-01 11:00:00',\n",
       "                '2018-01-01 12:00:00', '2018-01-01 13:00:00',\n",
       "                '2018-01-01 14:00:00', '2018-01-01 15:00:00',\n",
       "                '2018-01-01 16:00:00', '2018-01-01 17:00:00',\n",
       "                '2018-01-01 18:00:00', '2018-01-01 19:00:00',\n",
       "                '2018-01-01 20:00:00', '2018-01-01 21:00:00',\n",
       "                '2018-01-01 22:00:00', '2018-01-01 23:00:00',\n",
       "                '2018-01-02 00:00:00', '2018-01-02 01:00:00',\n",
       "                '2018-01-02 02:00:00', '2018-01-02 03:00:00',\n",
       "                '2018-01-02 04:00:00', '2018-01-02 05:00:00',\n",
       "                '2018-01-02 06:00:00', '2018-01-02 07:00:00',\n",
       "                '2018-01-02 08:00:00', '2018-01-02 09:00:00',\n",
       "                '2018-01-02 10:00:00', '2018-01-02 11:00:00',\n",
       "                '2018-01-02 12:00:00', '2018-01-02 13:00:00',\n",
       "                '2018-01-02 14:00:00', '2018-01-02 15:00:00',\n",
       "                '2018-01-02 16:00:00', '2018-01-02 17:00:00',\n",
       "                '2018-01-02 18:00:00', '2018-01-02 19:00:00',\n",
       "                '2018-01-02 20:00:00', '2018-01-02 21:00:00',\n",
       "                '2018-01-02 22:00:00', '2018-01-02 23:00:00',\n",
       "                '2018-01-03 00:00:00', '2018-01-03 01:00:00',\n",
       "                '2018-01-03 02:00:00', '2018-01-03 03:00:00',\n",
       "                '2018-01-03 04:00:00', '2018-01-03 05:00:00',\n",
       "                '2018-01-03 06:00:00', '2018-01-03 07:00:00',\n",
       "                '2018-01-03 08:00:00', '2018-01-03 09:00:00',\n",
       "                '2018-01-03 10:00:00', '2018-01-03 11:00:00',\n",
       "                '2018-01-03 12:00:00', '2018-01-03 13:00:00',\n",
       "                '2018-01-03 14:00:00', '2018-01-03 15:00:00',\n",
       "                '2018-01-03 16:00:00', '2018-01-03 17:00:00',\n",
       "                '2018-01-03 18:00:00', '2018-01-03 19:00:00',\n",
       "                '2018-01-03 20:00:00', '2018-01-03 21:00:00',\n",
       "                '2018-01-03 22:00:00', '2018-01-03 23:00:00',\n",
       "                '2018-01-04 00:00:00', '2018-01-04 01:00:00',\n",
       "                '2018-01-04 02:00:00', '2018-01-04 03:00:00',\n",
       "                '2018-01-04 04:00:00', '2018-01-04 05:00:00',\n",
       "                '2018-01-04 06:00:00', '2018-01-04 07:00:00',\n",
       "                '2018-01-04 08:00:00', '2018-01-04 09:00:00',\n",
       "                '2018-01-04 10:00:00', '2018-01-04 11:00:00',\n",
       "                '2018-01-04 12:00:00', '2018-01-04 13:00:00',\n",
       "                '2018-01-04 14:00:00', '2018-01-04 15:00:00',\n",
       "                '2018-01-04 16:00:00', '2018-01-04 17:00:00'],\n",
       "               dtype='datetime64[ns]', freq='H'),)"
      ]
     },
     "execution_count": 38,
     "metadata": {},
     "output_type": "execute_result"
    }
   ],
   "source": [
    "pd.date_range('2018-01-01', periods=90, freq='H'),"
   ]
  },
  {
   "cell_type": "code",
   "execution_count": 39,
   "metadata": {},
   "outputs": [],
   "source": [
    "import numpy as np\n",
    "from matplotlib import pyplot as plt\n",
    "\n",
    "A = np.random.randint(1, 5, size=(100, 100)).astype(np.double)\n",
    "y, x = np.ogrid[-50:50, -50:50]\n",
    "mask = x**2 + y**2 <= 30**2\n",
    "A[~mask] = 0"
   ]
  },
  {
   "cell_type": "code",
   "execution_count": 43,
   "metadata": {},
   "outputs": [
    {
     "ename": "NameError",
     "evalue": "name 'edges' is not defined",
     "output_type": "error",
     "traceback": [
      "\u001b[0;31m---------------------------------------------------------------------------\u001b[0m",
      "\u001b[0;31mNameError\u001b[0m                                 Traceback (most recent call last)",
      "\u001b[0;32m<ipython-input-43-cadadd26e289>\u001b[0m in \u001b[0;36m<module>\u001b[0;34m\u001b[0m\n\u001b[1;32m      9\u001b[0m \u001b[0;31m# use it to find the indices of all non-zero values that are at most 1 pixel\u001b[0m\u001b[0;34m\u001b[0m\u001b[0;34m\u001b[0m\u001b[0;34m\u001b[0m\u001b[0m\n\u001b[1;32m     10\u001b[0m \u001b[0;31m# away from each edge pixel\u001b[0m\u001b[0;34m\u001b[0m\u001b[0;34m\u001b[0m\u001b[0;34m\u001b[0m\u001b[0m\n\u001b[0;32m---> 11\u001b[0;31m \u001b[0medge_idx\u001b[0m \u001b[0;34m=\u001b[0m \u001b[0mnp\u001b[0m\u001b[0;34m.\u001b[0m\u001b[0mvstack\u001b[0m\u001b[0;34m(\u001b[0m\u001b[0mnp\u001b[0m\u001b[0;34m.\u001b[0m\u001b[0mwhere\u001b[0m\u001b[0;34m(\u001b[0m\u001b[0medges\u001b[0m\u001b[0;34m)\u001b[0m\u001b[0;34m)\u001b[0m\u001b[0;34m.\u001b[0m\u001b[0mT\u001b[0m\u001b[0;34m\u001b[0m\u001b[0;34m\u001b[0m\u001b[0m\n\u001b[0m\u001b[1;32m     12\u001b[0m \u001b[0mneighbours\u001b[0m \u001b[0;34m=\u001b[0m \u001b[0mtree\u001b[0m\u001b[0;34m.\u001b[0m\u001b[0mquery_ball_point\u001b[0m\u001b[0;34m(\u001b[0m\u001b[0medge_idx\u001b[0m\u001b[0;34m,\u001b[0m \u001b[0mr\u001b[0m\u001b[0;34m=\u001b[0m\u001b[0;36m1\u001b[0m\u001b[0;34m,\u001b[0m \u001b[0mp\u001b[0m\u001b[0;34m=\u001b[0m\u001b[0mnp\u001b[0m\u001b[0;34m.\u001b[0m\u001b[0minf\u001b[0m\u001b[0;34m)\u001b[0m\u001b[0;34m\u001b[0m\u001b[0;34m\u001b[0m\u001b[0m\n\u001b[1;32m     13\u001b[0m \u001b[0;34m\u001b[0m\u001b[0m\n",
      "\u001b[0;31mNameError\u001b[0m: name 'edges' is not defined"
     ]
    }
   ],
   "source": [
    "from scipy.spatial import cKDTree\n",
    "# the indices of the non-zero locations and their corresponding values\n",
    "nonzero_idx = np.vstack(np.where(mask)).T\n",
    "nonzero_vals = A[mask]\n",
    "\n",
    "# build a k-D tree\n",
    "tree = cKDTree(nonzero_idx)\n",
    "\n",
    "# use it to find the indices of all non-zero values that are at most 1 pixel\n",
    "# away from each edge pixel\n",
    "edge_idx = np.vstack(np.where(edges)).T\n",
    "neighbours = tree.query_ball_point(edge_idx, r=1, p=np.inf)\n",
    "\n",
    "# take the average value for each set of neighbours\n",
    "new_vals = np.hstack(np.mean(nonzero_vals[n]) for n in neighbours)\n",
    "\n",
    "# use these to replace the values of the edge pixels\n",
    "A_new = A.astype(np.double, copy=True)\n",
    "A_new[edges] = new_vals"
   ]
  },
  {
   "cell_type": "code",
   "execution_count": 44,
   "metadata": {},
   "outputs": [
    {
     "ename": "NameError",
     "evalue": "name 'edges' is not defined",
     "output_type": "error",
     "traceback": [
      "\u001b[0;31m---------------------------------------------------------------------------\u001b[0m",
      "\u001b[0;31mNameError\u001b[0m                                 Traceback (most recent call last)",
      "\u001b[0;32m<ipython-input-44-154380b240a1>\u001b[0m in \u001b[0;36m<module>\u001b[0;34m\u001b[0m\n\u001b[1;32m      3\u001b[0m \u001b[0max\u001b[0m\u001b[0;34m[\u001b[0m\u001b[0;36m0\u001b[0m\u001b[0;34m]\u001b[0m\u001b[0;34m.\u001b[0m\u001b[0mimshow\u001b[0m\u001b[0;34m(\u001b[0m\u001b[0mA\u001b[0m\u001b[0;34m,\u001b[0m \u001b[0mnorm\u001b[0m\u001b[0;34m=\u001b[0m\u001b[0mnorm\u001b[0m\u001b[0;34m)\u001b[0m\u001b[0;34m\u001b[0m\u001b[0;34m\u001b[0m\u001b[0m\n\u001b[1;32m      4\u001b[0m \u001b[0max\u001b[0m\u001b[0;34m[\u001b[0m\u001b[0;36m0\u001b[0m\u001b[0;34m]\u001b[0m\u001b[0;34m.\u001b[0m\u001b[0mset_title\u001b[0m\u001b[0;34m(\u001b[0m\u001b[0;34m'Original'\u001b[0m\u001b[0;34m,\u001b[0m \u001b[0mfontsize\u001b[0m\u001b[0;34m=\u001b[0m\u001b[0;34m'x-large'\u001b[0m\u001b[0;34m)\u001b[0m\u001b[0;34m\u001b[0m\u001b[0;34m\u001b[0m\u001b[0m\n\u001b[0;32m----> 5\u001b[0;31m \u001b[0max\u001b[0m\u001b[0;34m[\u001b[0m\u001b[0;36m1\u001b[0m\u001b[0;34m]\u001b[0m\u001b[0;34m.\u001b[0m\u001b[0mimshow\u001b[0m\u001b[0;34m(\u001b[0m\u001b[0medges\u001b[0m\u001b[0;34m)\u001b[0m\u001b[0;34m\u001b[0m\u001b[0;34m\u001b[0m\u001b[0m\n\u001b[0m\u001b[1;32m      6\u001b[0m \u001b[0max\u001b[0m\u001b[0;34m[\u001b[0m\u001b[0;36m1\u001b[0m\u001b[0;34m]\u001b[0m\u001b[0;34m.\u001b[0m\u001b[0mset_title\u001b[0m\u001b[0;34m(\u001b[0m\u001b[0;34m'Edges'\u001b[0m\u001b[0;34m,\u001b[0m \u001b[0mfontsize\u001b[0m\u001b[0;34m=\u001b[0m\u001b[0;34m'x-large'\u001b[0m\u001b[0;34m)\u001b[0m\u001b[0;34m\u001b[0m\u001b[0;34m\u001b[0m\u001b[0m\n\u001b[1;32m      7\u001b[0m \u001b[0max\u001b[0m\u001b[0;34m[\u001b[0m\u001b[0;36m2\u001b[0m\u001b[0;34m]\u001b[0m\u001b[0;34m.\u001b[0m\u001b[0mimshow\u001b[0m\u001b[0;34m(\u001b[0m\u001b[0mA_new\u001b[0m\u001b[0;34m,\u001b[0m \u001b[0mnorm\u001b[0m\u001b[0;34m=\u001b[0m\u001b[0mnorm\u001b[0m\u001b[0;34m)\u001b[0m\u001b[0;34m\u001b[0m\u001b[0;34m\u001b[0m\u001b[0m\n",
      "\u001b[0;31mNameError\u001b[0m: name 'edges' is not defined"
     ]
    },
    {
     "data": {
      "image/png": "[encoded data removed]",
      "text/plain": [
       "<Figure size 720x288 with 3 Axes>"
      ]
     },
     "metadata": {
      "needs_background": "light"
     },
     "output_type": "display_data"
    }
   ],
   "source": [
    "fig, ax = plt.subplots(1, 3, figsize=(10, 4), sharex=True, sharey=True)\n",
    "norm = plt.Normalize(0, A.max())\n",
    "ax[0].imshow(A, norm=norm)\n",
    "ax[0].set_title('Original', fontsize='x-large')\n",
    "ax[1].imshow(edges)\n",
    "ax[1].set_title('Edges', fontsize='x-large')\n",
    "ax[2].imshow(A_new, norm=norm)\n",
    "ax[2].set_title('Averaged', fontsize='x-large')\n",
    "for aa in ax:\n",
    "    aa.set_axis_off()\n",
    "ax[0].set_xlim(20, 50)\n",
    "ax[0].set_ylim(50, 80)\n",
    "fig.tight_layout()\n",
    "plt.show()"
   ]
  },
  {
   "cell_type": "code",
   "execution_count": null,
   "metadata": {},
   "outputs": [],
   "source": []
  }
 ],
 "metadata": {
  "kernelspec": {
   "display_name": "Python (fes)",
   "language": "python",
   "name": "fes"
  },
  "language_info": {
   "codemirror_mode": {
    "name": "ipython",
    "version": 3
   },
   "file_extension": ".py",
   "mimetype": "text/x-python",
   "name": "python",
   "nbconvert_exporter": "python",
   "pygments_lexer": "ipython3",
   "version": "3.7.4"
  }
 },
 "nbformat": 4,
 "nbformat_minor": 2
}
