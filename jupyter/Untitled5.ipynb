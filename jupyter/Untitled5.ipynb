{
 "cells": [
  {
   "cell_type": "code",
   "execution_count": 17,
   "metadata": {},
   "outputs": [],
   "source": [
    "from __future__ import print_function\n",
    "import uptide\n",
    "import uptide.tidal_netcdf\n",
    "import os.path\n",
    "import datetime\n",
    "import numpy\n",
    "import utm\n",
    "import sys"
   ]
  },
  {
   "cell_type": "code",
   "execution_count": 18,
   "metadata": {},
   "outputs": [],
   "source": [
    "utm_zone = 30\n",
    "utm_band = 'V'\n",
    "ranges = ((-4.0,0.0), (58.0,61.0))\n",
    "otps_data_dir = '/home/angel/tools/OpenTidalFarm_master/examples/data/netcdf'\n",
    "grid_file_name = os.path.join(otps_data_dir, 'gridES2008.nc')\n",
    "data_file_name = os.path.join(otps_data_dir, 'hf.ES2008.nc')"
   ]
  },
  {
   "cell_type": "code",
   "execution_count": 19,
   "metadata": {},
   "outputs": [],
   "source": [
    "initial_time = datetime.datetime(2001, 9, 18, 0)\n",
    "constituents = ['Q1', 'O1', 'P1', 'K1', 'N2', 'M2', 'S2', 'K2']"
   ]
  },
  {
   "cell_type": "code",
   "execution_count": 23,
   "metadata": {},
   "outputs": [
    {
     "data": {
      "text/plain": [
       "'/home/angel/tools/uptide-0.4/regression'"
      ]
     },
     "execution_count": 23,
     "metadata": {},
     "output_type": "execute_result"
    }
   ],
   "source": [
    "pwd"
   ]
  },
  {
   "cell_type": "code",
   "execution_count": 24,
   "metadata": {},
   "outputs": [],
   "source": [
    "reference_file_name = 'orkney.dat'\n",
    "\n",
    "times = (0., 100.)\n",
    "boundary_xy = numpy.loadtxt('orkney.xy')\n",
    "\n",
    "tide = uptide.Tides(constituents)\n",
    "tide.set_initial_time(initial_time)"
   ]
  },
  {
   "cell_type": "code",
   "execution_count": 25,
   "metadata": {},
   "outputs": [],
   "source": [
    "tnci = uptide.tidal_netcdf.OTPSncTidalInterpolator(tide,\n",
    "            grid_file_name, data_file_name, ranges)"
   ]
  },
  {
   "cell_type": "code",
   "execution_count": 27,
   "metadata": {},
   "outputs": [],
   "source": [
    "vals_t = []\n",
    "for t in times:\n",
    "    tnci.set_time(t)\n",
    "    vals = []\n",
    "    for xy in boundary_xy:\n",
    "        latlon = utm.to_latlon(xy[0], xy[1], utm_zone, utm_band)\n",
    "        vals.append(tnci.get_val((latlon[1], latlon[0]), allow_extrapolation=True))\n",
    "\n",
    "    vals_t.append(vals)\n",
    "\n",
    "vals_t = numpy.array(vals_t).T"
   ]
  },
  {
   "cell_type": "code",
   "execution_count": 28,
   "metadata": {},
   "outputs": [
    {
     "data": {
      "text/plain": [
       "array([[ 1.12929433e+00,  1.12174965e+00],\n",
       "       [ 1.52840798e+00,  1.52594849e+00],\n",
       "       [-7.37949042e-01, -7.68082687e-01],\n",
       "       [-7.37948954e-01, -7.68082600e-01],\n",
       "       [-7.37948836e-01, -7.68082482e-01],\n",
       "       [-7.37948672e-01, -7.68082319e-01],\n",
       "       [-7.37706917e-01, -7.67835703e-01],\n",
       "       [-7.35805830e-01, -7.65896355e-01],\n",
       "       [-7.33154450e-01, -7.63191617e-01],\n",
       "       [-7.29456628e-01, -7.59419379e-01],\n",
       "       [-7.23441160e-01, -7.53269466e-01],\n",
       "       [-7.14413632e-01, -7.44030440e-01],\n",
       "       [-7.01559788e-01, -7.30833712e-01],\n",
       "       [-6.84174257e-01, -7.12927915e-01],\n",
       "       [-6.62834505e-01, -6.90848657e-01],\n",
       "       [-6.40086246e-01, -6.67210683e-01],\n",
       "       [-6.16955514e-01, -6.43329808e-01],\n",
       "       [-5.93306948e-01, -6.19047286e-01],\n",
       "       [-5.65891699e-01, -5.91022788e-01],\n",
       "       [-5.34141228e-01, -5.58641278e-01],\n",
       "       [-4.99424231e-01, -5.23245629e-01],\n",
       "       [-4.64937143e-01, -4.88039765e-01],\n",
       "       [-4.32765364e-01, -4.55114439e-01],\n",
       "       [-4.02580432e-01, -4.24136102e-01],\n",
       "       [-3.76323418e-01, -3.97073505e-01],\n",
       "       [-3.54060538e-01, -3.74004978e-01],\n",
       "       [-3.35577863e-01, -3.54731812e-01],\n",
       "       [-3.20286060e-01, -3.38679991e-01],\n",
       "       [-3.07987181e-01, -3.25666756e-01],\n",
       "       [-2.97420158e-01, -3.14427486e-01],\n",
       "       [-2.88119152e-01, -3.04495297e-01],\n",
       "       [-2.79137842e-01, -2.94924801e-01],\n",
       "       [-2.69210843e-01, -2.84445889e-01],\n",
       "       [-2.20974137e-01, -2.35823474e-01],\n",
       "       [-1.84282606e-01, -1.99236185e-01],\n",
       "       [-1.48427100e-01, -1.63454634e-01],\n",
       "       [-1.13747793e-01, -1.28816200e-01],\n",
       "       [-8.08556227e-02, -9.59278672e-02],\n",
       "       [-5.01917581e-02, -6.52287261e-02],\n",
       "       [-2.25323518e-02, -3.75013365e-02],\n",
       "       [ 8.33636042e-04, -1.40522713e-02],\n",
       "       [ 3.27871441e-02,  1.79461324e-02],\n",
       "       [ 5.17633515e-02,  3.69773439e-02],\n",
       "       [ 7.87504405e-02,  6.41074726e-02],\n",
       "       [ 1.16155358e-01,  1.01799199e-01],\n",
       "       [ 1.76854838e-01,  1.62794457e-01],\n",
       "       [ 2.47596481e-01,  2.33689614e-01],\n",
       "       [ 3.27485343e-01,  3.13644393e-01],\n",
       "       [ 4.16526806e-01,  4.02650407e-01],\n",
       "       [ 5.13173692e-01,  4.99276151e-01],\n",
       "       [ 6.12858822e-01,  5.99102014e-01],\n",
       "       [ 7.12095988e-01,  6.98847193e-01],\n",
       "       [ 8.17214367e-01,  8.04781014e-01],\n",
       "       [ 9.13105035e-01,  9.01672603e-01],\n",
       "       [ 9.90276986e-01,  9.79893497e-01],\n",
       "       [ 1.04817804e+00,  1.03885832e+00],\n",
       "       [ 1.09327971e+00,  1.08489878e+00],\n",
       "       [-7.37949121e-01, -7.68082766e-01],\n",
       "       [-2.58475222e-01, -2.73194681e-01],\n",
       "       [ 2.00167596e-02,  5.22354252e-03],\n",
       "       [ 1.17100592e+00,  1.16400569e+00],\n",
       "       [ 1.20883288e+00,  1.20236543e+00],\n",
       "       [ 1.24473649e+00,  1.23877543e+00],\n",
       "       [ 1.28003151e+00,  1.27455483e+00],\n",
       "       [ 1.31620588e+00,  1.31119943e+00],\n",
       "       [ 1.35395861e+00,  1.34942410e+00],\n",
       "       [ 1.39402493e+00,  1.38997214e+00],\n",
       "       [ 1.43659373e+00,  1.43304491e+00],\n",
       "       [ 1.48152871e+00,  1.47850857e+00],\n",
       "       [ 1.56847630e+00,  1.56537782e+00],\n",
       "       [ 1.60502050e+00,  1.60130033e+00],\n",
       "       [ 1.63995515e+00,  1.63558692e+00],\n",
       "       [ 1.67476771e+00,  1.66973347e+00],\n",
       "       [ 1.71051046e+00,  1.70483297e+00],\n",
       "       [ 1.74758443e+00,  1.74134503e+00],\n",
       "       [ 1.78095237e+00,  1.77441042e+00],\n",
       "       [ 1.80919255e+00,  1.80247888e+00],\n",
       "       [ 1.82895483e+00,  1.82215319e+00],\n",
       "       [ 1.84137804e+00,  1.83452401e+00],\n",
       "       [ 1.84948878e+00,  1.84259683e+00],\n",
       "       [ 1.85480885e+00,  1.84788722e+00],\n",
       "       [ 1.85832737e+00,  1.85138301e+00],\n",
       "       [ 1.86024891e+00,  1.85328515e+00],\n",
       "       [ 1.86161880e+00,  1.85464124e+00],\n",
       "       [ 1.86259477e+00,  1.85560740e+00],\n",
       "       [ 1.86337998e+00,  1.85639715e+00],\n",
       "       [ 1.86406263e+00,  1.85708416e+00],\n",
       "       [ 1.86469247e+00,  1.85771800e+00]])"
      ]
     },
     "execution_count": 28,
     "metadata": {},
     "output_type": "execute_result"
    }
   ],
   "source": [
    "vals_t"
   ]
  },
  {
   "cell_type": "code",
   "execution_count": 29,
   "metadata": {},
   "outputs": [
    {
     "name": "stdout",
     "output_type": "stream",
     "text": [
      "Help on method get_val in module uptide.tidal_netcdf:\n",
      "\n",
      "get_val(x, allow_extrapolation=False) method of uptide.tidal_netcdf.TidalNetCDFInterpolator instance\n",
      "    Interpolates the tidal signal in point x, computed in set_time(). The order\n",
      "    of the coordinates x is determined by the storage order in the NetCDF file.\n",
      "\n"
     ]
    }
   ],
   "source": [
    "help(tnci.get_val)"
   ]
  },
  {
   "cell_type": "code",
   "execution_count": null,
   "metadata": {},
   "outputs": [],
   "source": []
  }
 ],
 "metadata": {
  "kernelspec": {
   "display_name": "Python 3",
   "language": "python",
   "name": "python3"
  },
  "language_info": {
   "codemirror_mode": {
    "name": "ipython",
    "version": 3
   },
   "file_extension": ".py",
   "mimetype": "text/x-python",
   "name": "python",
   "nbconvert_exporter": "python",
   "pygments_lexer": "ipython3",
   "version": "3.6.7"
  }
 },
 "nbformat": 4,
 "nbformat_minor": 2
}
