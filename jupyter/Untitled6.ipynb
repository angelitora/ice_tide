{
 "cells": [
  {
   "cell_type": "code",
   "execution_count": 2,
   "metadata": {},
   "outputs": [],
   "source": [
    "import uptide\n",
    "import uptide.tidal_netcdf\n",
    "import os.path\n",
    "import datetime\n",
    "import numpy\n",
    "import utm\n",
    "import sys\n",
    "import fes\n",
    "tide = uptide.Tides(uptide.ALL_FES2014_TIDAL_CONSTITUENTS)\n",
    "tide.set_initial_time(datetime.datetime(2005,3,1,0,0))\n",
    "tnci = uptide.FES2014TidalInterpolator('/home/angel/tools/fes-2.9.1-Source/data/fes2014/ocean_tide.ini')"
   ]
  },
  {
   "cell_type": "code",
   "execution_count": 3,
   "metadata": {},
   "outputs": [],
   "source": [
    "tnci.set_initial_time(datetime.datetime(2005,3,1,0,0))\n",
    "tnci.set_time(100)\n",
    "lat = 64.15\n",
    "lon = 338.06667\n",
    "xx = [lat,lon]"
   ]
  },
  {
   "cell_type": "code",
   "execution_count": null,
   "metadata": {},
   "outputs": [],
   "source": [
    "eta = tnci.get_val(xx)"
   ]
  },
  {
   "cell_type": "code",
   "execution_count": null,
   "metadata": {},
   "outputs": [],
   "source": []
  }
 ],
 "metadata": {
  "kernelspec": {
   "display_name": "Python 3",
   "language": "python",
   "name": "python3"
  },
  "language_info": {
   "codemirror_mode": {
    "name": "ipython",
    "version": 3
   },
   "file_extension": ".py",
   "mimetype": "text/x-python",
   "name": "python",
   "nbconvert_exporter": "python",
   "pygments_lexer": "ipython3",
   "version": "3.6.7"
  }
 },
 "nbformat": 4,
 "nbformat_minor": 2
}
