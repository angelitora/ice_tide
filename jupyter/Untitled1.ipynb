{
 "cells": [
  {
   "cell_type": "code",
   "execution_count": 11,
   "metadata": {},
   "outputs": [],
   "source": [
    "import pytest\n",
    "import os"
   ]
  },
  {
   "cell_type": "code",
   "execution_count": 12,
   "metadata": {},
   "outputs": [],
   "source": [
    "pytestmark = pytest.mark.skipif(\n",
    "    not any(x in os.environ for x in ('AMCG_TIDAL_FILE', 'OTPS_GRID_FILE', 'OTPS_DATA_FILE',\n",
    "                                      'FES2004_FILE', 'FES2014_INI_FILE', 'FES2014_DATA_PATH')),\n",
    "    reason=\"Only run when tidal data file are given with environment variables\"\n",
    ")"
   ]
  },
  {
   "cell_type": "code",
   "execution_count": 1,
   "metadata": {},
   "outputs": [
    {
     "data": {
      "text/plain": [
       "'/home/angel/tools/uptide-0.4/tests'"
      ]
     },
     "execution_count": 1,
     "metadata": {},
     "output_type": "execute_result"
    }
   ],
   "source": [
    "pwd"
   ]
  },
  {
   "cell_type": "code",
   "execution_count": 1,
   "metadata": {},
   "outputs": [],
   "source": [
    "import uptide.tidal_netcdf\n",
    "import uptide\n",
    "import datetime\n",
    "import numpy"
   ]
  },
  {
   "cell_type": "code",
   "execution_count": 15,
   "metadata": {},
   "outputs": [],
   "source": [
    "try:\n",
    "        import pylab\n",
    "except ImportError:\n",
    "        # will fail but at least pytest is happy\n",
    "        pass"
   ]
  },
  {
   "cell_type": "code",
   "execution_count": 2,
   "metadata": {},
   "outputs": [],
   "source": [
    "def extract_series(tnci, ll, trange):\n",
    "    etas = []\n",
    "    for t in trange:\n",
    "        tnci.set_time(t)\n",
    "        eta = tnci.get_val(ll)\n",
    "        etas.append(eta)\n",
    "    return etas"
   ]
  },
  {
   "cell_type": "code",
   "execution_count": null,
   "metadata": {},
   "outputs": [],
   "source": [
    "        constituents = ('M2', 'S2', 'N2', 'K2', 'K1', 'O1', 'P1', 'Q1')\n",
    "        lat = 58.708\n",
    "        lon = -3.287\n",
    "        dt0 = datetime.datetime(2003, 3, 28, 0, 0, 0)\n",
    "        trange = numpy.arange(0., 24.*32., 0.25)*3600.\n",
    "\n",
    "        tide = uptide.Tides(constituents)\n",
    "        tide.set_initial_time(dt0)\n",
    "\n",
    "        series = {}\n",
    "\n",
    "\n",
    "        #if 'FES2014_INI_FILE' in os.environ:\n",
    "        print(\"simon\")\n",
    "        tnci = uptide.FES2014TidalInterpolator('/home/angel/tools/fes-2.9.1-Source/data/fes2014/ocean_tide.ini')\n",
    "        tnci.set_initial_time(dt0)\n",
    "        series['FES2014'] = extract_series(tnci, (lat, 360. + lon), trange)\n",
    "\n",
    "        pylab.figure()\n",
    "        for label, etas in series.items():\n",
    "            pylab.plot(trange/uptide.tidal.day, etas, label=label)\n",
    "        pylab.legend()\n",
    "        pylab.show()"
   ]
  },
  {
   "cell_type": "code",
   "execution_count": 10,
   "metadata": {},
   "outputs": [
    {
     "data": {
      "text/plain": [
       "'/home/angel/tools/fes-2.9.1-Source/data/fes2014/load_tide.ini'"
      ]
     },
     "execution_count": 10,
     "metadata": {},
     "output_type": "execute_result"
    }
   ],
   "source": [
    "os.environ['FES2014_INI_FILE']"
   ]
  },
  {
   "cell_type": "code",
   "execution_count": 11,
   "metadata": {},
   "outputs": [],
   "source": [
    "constituents = uptide.ALL_FES2014_TIDAL_CONSTITUENTS"
   ]
  },
  {
   "cell_type": "code",
   "execution_count": 12,
   "metadata": {},
   "outputs": [],
   "source": [
    "        lat = 58.708\n",
    "        lon = -3.287\n",
    "        lon = -1.\n",
    "        dt0 = datetime.datetime(2003, 3, 28, 0, 0, 0)\n",
    "        trange = numpy.arange(0., 24.*32., 0.25)*3600.\n",
    "\n",
    "        tide = uptide.Tides(constituents)\n",
    "        tide.set_initial_time(dt0)\n",
    "        series = {}"
   ]
  },
  {
   "cell_type": "code",
   "execution_count": 13,
   "metadata": {},
   "outputs": [],
   "source": [
    "tnci = uptide.FES2014TidalInterpolator(os.environ['FES2014_INI_FILE'])"
   ]
  },
  {
   "cell_type": "code",
   "execution_count": 14,
   "metadata": {},
   "outputs": [],
   "source": [
    "            tnci = uptide.FES2014TidalInterpolator(os.environ['FES2014_INI_FILE'])\n",
    "            tnci.set_initial_time(dt0)\n"
   ]
  },
  {
   "cell_type": "code",
   "execution_count": null,
   "metadata": {},
   "outputs": [],
   "source": [
    "            series['FES2014'] = extract_series(tnci, (lat, 360. + lon), trange)"
   ]
  },
  {
   "cell_type": "code",
   "execution_count": null,
   "metadata": {},
   "outputs": [],
   "source": [
    " ee = tnci.get_val((lat, 360. + lon))"
   ]
  },
  {
   "cell_type": "code",
   "execution_count": 1,
   "metadata": {},
   "outputs": [
    {
     "ename": "NameError",
     "evalue": "name 'ee' is not defined",
     "output_type": "error",
     "traceback": [
      "\u001b[0;31m---------------------------------------------------------------------------\u001b[0m",
      "\u001b[0;31mNameError\u001b[0m                                 Traceback (most recent call last)",
      "\u001b[0;32m<ipython-input-1-0c2876394226>\u001b[0m in \u001b[0;36m<module>\u001b[0;34m\u001b[0m\n\u001b[0;32m----> 1\u001b[0;31m \u001b[0mee\u001b[0m\u001b[0;34m\u001b[0m\u001b[0;34m\u001b[0m\u001b[0m\n\u001b[0m",
      "\u001b[0;31mNameError\u001b[0m: name 'ee' is not defined"
     ]
    }
   ],
   "source": [
    "ee"
   ]
  },
  {
   "cell_type": "code",
   "execution_count": 24,
   "metadata": {},
   "outputs": [
    {
     "ename": "IndentationError",
     "evalue": "expected an indented block (<ipython-input-24-7c7bdc5862f2>, line 3)",
     "output_type": "error",
     "traceback": [
      "\u001b[0;36m  File \u001b[0;32m\"<ipython-input-24-7c7bdc5862f2>\"\u001b[0;36m, line \u001b[0;32m3\u001b[0m\n\u001b[0;31m    pylab.plot(trange/uptide.tidal.day, etas, label=label)\u001b[0m\n\u001b[0m        ^\u001b[0m\n\u001b[0;31mIndentationError\u001b[0m\u001b[0;31m:\u001b[0m expected an indented block\n"
     ]
    }
   ],
   "source": [
    "pylab.figure()\n",
    "for label, etas in series.items():\n",
    "pylab.plot(trange/uptide.tidal.day, etas, label=label)\n",
    "pylab.legend()\n",
    "pylab.show()"
   ]
  },
  {
   "cell_type": "code",
   "execution_count": 41,
   "metadata": {},
   "outputs": [
    {
     "data": {
      "text/plain": [
       "'/home/angel/tools/fes-2.9.1-Source/data/fes2014'"
      ]
     },
     "execution_count": 41,
     "metadata": {},
     "output_type": "execute_result"
    }
   ],
   "source": [
    "os.environ['FES2014_INI_FILE']"
   ]
  },
  {
   "cell_type": "code",
   "execution_count": 36,
   "metadata": {},
   "outputs": [
    {
     "data": {
      "text/plain": [
       "['2N2',\n",
       " 'EPS2',\n",
       " 'J1',\n",
       " 'K1',\n",
       " 'K2',\n",
       " 'L2',\n",
       " 'M2',\n",
       " 'M3',\n",
       " 'M4',\n",
       " 'M6',\n",
       " 'M8',\n",
       " 'MF',\n",
       " 'MKS2',\n",
       " 'MM',\n",
       " 'MN4',\n",
       " 'MS4',\n",
       " 'MSF',\n",
       " 'MSQM',\n",
       " 'MTM',\n",
       " 'MU2',\n",
       " 'N2',\n",
       " 'N4',\n",
       " 'NU2',\n",
       " 'O1',\n",
       " 'P1',\n",
       " 'Q1',\n",
       " 'R2',\n",
       " 'S1',\n",
       " 'S2',\n",
       " 'S4',\n",
       " 'SA',\n",
       " 'SSA',\n",
       " 'T2']"
      ]
     },
     "execution_count": 36,
     "metadata": {},
     "output_type": "execute_result"
    }
   ],
   "source": [
    "constituents"
   ]
  },
  {
   "cell_type": "code",
   "execution_count": 38,
   "metadata": {},
   "outputs": [
    {
     "ename": "RuntimeError",
     "evalue": "The configuration file defines no tide wave",
     "output_type": "error",
     "traceback": [
      "\u001b[0;31m---------------------------------------------------------------------------\u001b[0m",
      "\u001b[0;31mRuntimeError\u001b[0m                              Traceback (most recent call last)",
      "\u001b[0;32m<ipython-input-38-fbd55f77ab7c>\u001b[0m in \u001b[0;36m<module>\u001b[0;34m\u001b[0m\n\u001b[0;32m----> 1\u001b[0;31m \u001b[0mtest\u001b[0m\u001b[0;34m(\u001b[0m\u001b[0;34m)\u001b[0m\u001b[0;34m\u001b[0m\u001b[0;34m\u001b[0m\u001b[0m\n\u001b[0m",
      "\u001b[0;32m<ipython-input-35-09576eb04fd0>\u001b[0m in \u001b[0;36mtest\u001b[0;34m()\u001b[0m\n\u001b[1;32m     33\u001b[0m         \u001b[0;32mif\u001b[0m \u001b[0;34m'FES2014_INI_FILE'\u001b[0m \u001b[0;32min\u001b[0m \u001b[0mos\u001b[0m\u001b[0;34m.\u001b[0m\u001b[0menviron\u001b[0m\u001b[0;34m:\u001b[0m\u001b[0;34m\u001b[0m\u001b[0;34m\u001b[0m\u001b[0m\n\u001b[1;32m     34\u001b[0m             \u001b[0;31m#print('simon')\u001b[0m\u001b[0;34m\u001b[0m\u001b[0;34m\u001b[0m\u001b[0;34m\u001b[0m\u001b[0m\n\u001b[0;32m---> 35\u001b[0;31m             \u001b[0mtnci\u001b[0m \u001b[0;34m=\u001b[0m \u001b[0muptide\u001b[0m\u001b[0;34m.\u001b[0m\u001b[0mFES2014TidalInterpolator\u001b[0m\u001b[0;34m(\u001b[0m\u001b[0mos\u001b[0m\u001b[0;34m.\u001b[0m\u001b[0menviron\u001b[0m\u001b[0;34m[\u001b[0m\u001b[0;34m'FES2014_INI_FILE'\u001b[0m\u001b[0;34m]\u001b[0m\u001b[0;34m)\u001b[0m\u001b[0;34m\u001b[0m\u001b[0;34m\u001b[0m\u001b[0m\n\u001b[0m\u001b[1;32m     36\u001b[0m             \u001b[0mtnci\u001b[0m\u001b[0;34m.\u001b[0m\u001b[0mset_initial_time\u001b[0m\u001b[0;34m(\u001b[0m\u001b[0mdt0\u001b[0m\u001b[0;34m)\u001b[0m\u001b[0;34m\u001b[0m\u001b[0;34m\u001b[0m\u001b[0m\n\u001b[1;32m     37\u001b[0m             \u001b[0mseries\u001b[0m\u001b[0;34m[\u001b[0m\u001b[0;34m'FES2014'\u001b[0m\u001b[0;34m]\u001b[0m \u001b[0;34m=\u001b[0m \u001b[0mextract_series\u001b[0m\u001b[0;34m(\u001b[0m\u001b[0mtnci\u001b[0m\u001b[0;34m,\u001b[0m \u001b[0;34m(\u001b[0m\u001b[0mlat\u001b[0m\u001b[0;34m,\u001b[0m \u001b[0;36m360.\u001b[0m \u001b[0;34m+\u001b[0m \u001b[0mlon\u001b[0m\u001b[0;34m)\u001b[0m\u001b[0;34m,\u001b[0m \u001b[0mtrange\u001b[0m\u001b[0;34m)\u001b[0m\u001b[0;34m\u001b[0m\u001b[0;34m\u001b[0m\u001b[0m\n",
      "\u001b[0;32m~/anaconda3/envs/earthtools/lib/python3.6/site-packages/uptide/fes_interpolator.py\u001b[0m in \u001b[0;36m__init__\u001b[0;34m(self, tide_or_fes_ini_file, fes_data_path, include_long_period)\u001b[0m\n\u001b[1;32m    117\u001b[0m         \u001b[0;32melse\u001b[0m\u001b[0;34m:\u001b[0m\u001b[0;34m\u001b[0m\u001b[0;34m\u001b[0m\u001b[0m\n\u001b[1;32m    118\u001b[0m             \u001b[0;32massert\u001b[0m \u001b[0mfes_data_path\u001b[0m \u001b[0;32mis\u001b[0m \u001b[0;32mNone\u001b[0m\u001b[0;34m,\u001b[0m \u001b[0;34m\"Do not provide fes_data_path if fes_ini_file is specified\"\u001b[0m\u001b[0;34m\u001b[0m\u001b[0;34m\u001b[0m\u001b[0m\n\u001b[0;32m--> 119\u001b[0;31m             \u001b[0mself\u001b[0m\u001b[0;34m.\u001b[0m\u001b[0mfh\u001b[0m \u001b[0;34m=\u001b[0m \u001b[0mfes\u001b[0m\u001b[0;34m.\u001b[0m\u001b[0mHandler\u001b[0m\u001b[0;34m(\u001b[0m\u001b[0;34m\"ocean\"\u001b[0m\u001b[0;34m,\u001b[0m \u001b[0;34m\"io\"\u001b[0m\u001b[0;34m,\u001b[0m \u001b[0mtide_or_fes_ini_file\u001b[0m\u001b[0;34m)\u001b[0m\u001b[0;34m\u001b[0m\u001b[0;34m\u001b[0m\u001b[0m\n\u001b[0m\u001b[1;32m    120\u001b[0m \u001b[0;34m\u001b[0m\u001b[0m\n\u001b[1;32m    121\u001b[0m         \u001b[0mself\u001b[0m\u001b[0;34m.\u001b[0m\u001b[0minclude_long_period\u001b[0m \u001b[0;34m=\u001b[0m \u001b[0minclude_long_period\u001b[0m\u001b[0;34m\u001b[0m\u001b[0;34m\u001b[0m\u001b[0m\n",
      "\u001b[0;32mextension/wrapper/fes.pyx\u001b[0m in \u001b[0;36mfes.Handler.__cinit__\u001b[0;34m()\u001b[0m\n",
      "\u001b[0;32mextension/wrapper/fes.pyx\u001b[0m in \u001b[0;36mfes.Handler._check\u001b[0;34m()\u001b[0m\n",
      "\u001b[0;31mRuntimeError\u001b[0m: The configuration file defines no tide wave"
     ]
    }
   ],
   "source": [
    "test()"
   ]
  },
  {
   "cell_type": "code",
   "execution_count": null,
   "metadata": {},
   "outputs": [],
   "source": []
  }
 ],
 "metadata": {
  "kernelspec": {
   "display_name": "Python 3",
   "language": "python",
   "name": "python3"
  },
  "language_info": {
   "codemirror_mode": {
    "name": "ipython",
    "version": 3
   },
   "file_extension": ".py",
   "mimetype": "text/x-python",
   "name": "python",
   "nbconvert_exporter": "python",
   "pygments_lexer": "ipython3",
   "version": "3.6.7"
  }
 },
 "nbformat": 4,
 "nbformat_minor": 2
}
