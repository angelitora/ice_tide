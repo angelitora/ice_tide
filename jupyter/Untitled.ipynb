{
 "cells": [
  {
   "cell_type": "code",
   "execution_count": 1,
   "metadata": {},
   "outputs": [],
   "source": [
    "import pytest\n",
    "import os\n",
    "pytestmark = pytest.mark.skipif(\n",
    "    not any(x in os.environ for x in ('AMCG_TIDAL_FILE', 'OTPS_GRID_FILE', 'OTPS_DATA_FILE',\n",
    "                                      'FES2004_FILE', 'FES2014_INI_FILE', 'FES2014_DATA_PATH')),\n",
    "    reason=\"Only run when tidal data file are given with environment variables\"\n",
    ")\n",
    "\n",
    "import uptide.tidal_netcdf\n",
    "import uptide\n",
    "import datetime\n",
    "import numpy\n",
    "from numpy.testing import assert_equal"
   ]
  },
  {
   "cell_type": "code",
   "execution_count": 2,
   "metadata": {
    "scrolled": false
   },
   "outputs": [],
   "source": [
    "\n",
    "try:\n",
    "        import pylab\n",
    "except ImportError:\n",
    "        # will fail but at least pytest is happy\n",
    "        pass\n"
   ]
  },
  {
   "cell_type": "code",
   "execution_count": 3,
   "metadata": {},
   "outputs": [],
   "source": [
    "import pylab"
   ]
  },
  {
   "cell_type": "code",
   "execution_count": 4,
   "metadata": {},
   "outputs": [],
   "source": [
    "\n",
    "def extract_series(tnci, ll, trange):\n",
    "    etas = []\n",
    "    for t in trange:\n",
    "        tnci.set_time(t)\n",
    "        eta = tnci.get_val(ll)\n",
    "        etas.append(eta)\n",
    "    return etas\n"
   ]
  },
  {
   "cell_type": "code",
   "execution_count": 5,
   "metadata": {},
   "outputs": [
    {
     "name": "stdout",
     "output_type": "stream",
     "text": [
      "simon\n"
     ]
    }
   ],
   "source": [
    "   if 'FES2014_INI_FILE' in os.environ:\n",
    "        print('simon')"
   ]
  },
  {
   "cell_type": "code",
   "execution_count": 8,
   "metadata": {},
   "outputs": [
    {
     "data": {
      "text/plain": [
       "uptide.fes_interpolator.FES2014TidalInterpolator"
      ]
     },
     "execution_count": 8,
     "metadata": {},
     "output_type": "execute_result"
    }
   ],
   "source": [
    "uptide.FES2014TidalInterpolator"
   ]
  },
  {
   "cell_type": "code",
   "execution_count": 6,
   "metadata": {
    "scrolled": true
   },
   "outputs": [
    {
     "ename": "NameError",
     "evalue": "name 'dt0' is not defined",
     "output_type": "error",
     "traceback": [
      "\u001b[0;31m---------------------------------------------------------------------------\u001b[0m",
      "\u001b[0;31mNameError\u001b[0m                                 Traceback (most recent call last)",
      "\u001b[0;32m<ipython-input-6-d34e82b412c8>\u001b[0m in \u001b[0;36m<module>\u001b[0;34m\u001b[0m\n\u001b[1;32m      3\u001b[0m             \u001b[0;31m# constituents that are in the standard ocean_tide.ini file\u001b[0m\u001b[0;34m\u001b[0m\u001b[0;34m\u001b[0m\u001b[0;34m\u001b[0m\u001b[0m\n\u001b[1;32m      4\u001b[0m             \u001b[0mtide2\u001b[0m \u001b[0;34m=\u001b[0m \u001b[0muptide\u001b[0m\u001b[0;34m.\u001b[0m\u001b[0mTides\u001b[0m\u001b[0;34m(\u001b[0m\u001b[0muptide\u001b[0m\u001b[0;34m.\u001b[0m\u001b[0mALL_FES2014_TIDAL_CONSTITUENTS\u001b[0m\u001b[0;34m)\u001b[0m\u001b[0;34m\u001b[0m\u001b[0;34m\u001b[0m\u001b[0m\n\u001b[0;32m----> 5\u001b[0;31m             \u001b[0mtide2\u001b[0m\u001b[0;34m.\u001b[0m\u001b[0mset_initial_time\u001b[0m\u001b[0;34m(\u001b[0m\u001b[0mdt0\u001b[0m\u001b[0;34m)\u001b[0m\u001b[0;34m\u001b[0m\u001b[0;34m\u001b[0m\u001b[0m\n\u001b[0m\u001b[1;32m      6\u001b[0m             \u001b[0mtnci\u001b[0m \u001b[0;34m=\u001b[0m \u001b[0muptide\u001b[0m\u001b[0;34m.\u001b[0m\u001b[0mFES2014TidalInterpolator\u001b[0m\u001b[0;34m(\u001b[0m\u001b[0mtide2\u001b[0m\u001b[0;34m,\u001b[0m \u001b[0mos\u001b[0m\u001b[0;34m.\u001b[0m\u001b[0menviron\u001b[0m\u001b[0;34m[\u001b[0m\u001b[0;34m'FES2014_DATA_PATH'\u001b[0m\u001b[0;34m]\u001b[0m\u001b[0;34m)\u001b[0m\u001b[0;34m\u001b[0m\u001b[0;34m\u001b[0m\u001b[0m\n\u001b[1;32m      7\u001b[0m             \u001b[0mseries\u001b[0m\u001b[0;34m[\u001b[0m\u001b[0;34m'FES2014 all specified'\u001b[0m\u001b[0;34m]\u001b[0m \u001b[0;34m=\u001b[0m \u001b[0mextract_series\u001b[0m\u001b[0;34m(\u001b[0m\u001b[0mtnci\u001b[0m\u001b[0;34m,\u001b[0m \u001b[0;34m(\u001b[0m\u001b[0mlat\u001b[0m\u001b[0;34m,\u001b[0m \u001b[0;36m360.\u001b[0m \u001b[0;34m+\u001b[0m \u001b[0mlon\u001b[0m\u001b[0;34m)\u001b[0m\u001b[0;34m,\u001b[0m \u001b[0mtrange\u001b[0m\u001b[0;34m)\u001b[0m\u001b[0;34m\u001b[0m\u001b[0;34m\u001b[0m\u001b[0m\n",
      "\u001b[0;31mNameError\u001b[0m: name 'dt0' is not defined"
     ]
    }
   ],
   "source": [
    "if 'FES2014_DATA_PATH' in os.environ:\n",
    "            # check that the FES2014 tide is the same using a Tides object with all the\n",
    "            # constituents that are in the standard ocean_tide.ini file\n",
    "            tide2 = uptide.Tides(uptide.ALL_FES2014_TIDAL_CONSTITUENTS)\n",
    "            tide2.set_initial_time(dt0)\n",
    "            tnci = uptide.FES2014TidalInterpolator(tide2, os.environ['FES2014_DATA_PATH'])\n",
    "            series['FES2014 all specified'] = extract_series(tnci, (lat, 360. + lon), trange)\n",
    "else:\n",
    "            print('nonononono')"
   ]
  },
  {
   "cell_type": "code",
   "execution_count": 12,
   "metadata": {},
   "outputs": [
    {
     "ename": "SyntaxError",
     "evalue": "invalid syntax (<ipython-input-12-d2a5bdd01f65>, line 1)",
     "output_type": "error",
     "traceback": [
      "\u001b[0;36m  File \u001b[0;32m\"<ipython-input-12-d2a5bdd01f65>\"\u001b[0;36m, line \u001b[0;32m1\u001b[0m\n\u001b[0;31m    export FES2014_DATA_PATH='/home/angel/tools/fes-2.9.1-Source/data'\u001b[0m\n\u001b[0m                           ^\u001b[0m\n\u001b[0;31mSyntaxError\u001b[0m\u001b[0;31m:\u001b[0m invalid syntax\n"
     ]
    }
   ],
   "source": [
    "export FES2014_DATA_PATH='/home/angel/tools/fes-2.9.1-Source/data'"
   ]
  },
  {
   "cell_type": "code",
   "execution_count": 8,
   "metadata": {},
   "outputs": [],
   "source": [
    "\n",
    "def test():\n",
    "        constituents = ('M2', 'S2', 'N2', 'K2', 'K1', 'O1', 'P1', 'Q1')\n",
    "        lat = 58.708\n",
    "        lon = -3.287\n",
    "        lon = -1.\n",
    "        dt0 = datetime.datetime(2003, 3, 28, 0, 0, 0)\n",
    "        trange = numpy.arange(0., 24.*32., 0.25)*3600.\n",
    "\n",
    "        tide = uptide.Tides(constituents)\n",
    "        tide.set_initial_time(dt0)\n",
    "\n",
    "        series = {}\n",
    "\n",
    "        if 'AMCG_TIDAL_FILE' in os.environ:\n",
    "            tnci = uptide.tidal_netcdf.AMCGTidalInterpolator(tide,\n",
    "                                                             os.environ['AMCG_TIDAL_FILE'],\n",
    "                                                             ranges=((58.0, 61.0), (-4.0, 0.0)))\n",
    "            series['AMCG'] = extract_series(tnci, (lat, lon), trange)\n",
    "\n",
    "        if 'OTPS_GRID_FILE' in os.environ:\n",
    "            tnci = uptide.tidal_netcdf.OTPSncTidalInterpolator(tide,\n",
    "                                                               os.environ['OTPS_GRID_FILE'],\n",
    "                                                               os.environ['OTPS_DATA_FILE'],\n",
    "                                                               ranges=((-4.0, 0.0), (58.0, 61.0)))\n",
    "            series['OTPS'] = extract_series(tnci, (lon, lat), trange)\n",
    "\n",
    "        if 'FES2004_FILE' in os.environ:\n",
    "            tnci = uptide.tidal_netcdf.FESTidalInterpolator(tide,\n",
    "                                                            os.environ['FES2004_FILE'],\n",
    "                                                            ranges=((58.0, 61.0), (356., 360.0)))\n",
    "            series['FES2004'] = extract_series(tnci, (lat, 360. + lon), trange)\n",
    "\n",
    "        if 'FES2014_INI_FILE' in os.environ:\n",
    "            print('simon')\n",
    "            tnci = uptide.FES2014TidalInterpolator(os.environ['FES2014_INI_FILE'])\n",
    "            tnci.set_initial_time(dt0)\n",
    "            series['FES2014'] = extract_series(tnci, (lat, 360. + lon), trange)\n",
    "\n",
    "        if 'FES2014_INI_FILE' in os.environ:\n",
    "            print('simon')\n",
    "            tnci = uptide.FES2014TidalInterpolator(os.environ['FES2014_INI_FILE'], include_long_period=False)\n",
    "            tnci.set_initial_time(dt0)\n",
    "            series['FES2014 short'] = extract_series(tnci, (lat, 360. + lon), trange)\n",
    "\n",
    "        if 'FES2014_DATA_PATH' in os.environ:\n",
    "            print('simon')\n",
    "            # check that the FES2014 tide is the same using a Tides object with all the\n",
    "            # constituents that are in the standard ocean_tide.ini file\n",
    "            tide2 = uptide.Tides(uptide.ALL_FES2014_TIDAL_CONSTITUENTS)\n",
    "            tide2.set_initial_time(dt0)\n",
    "            tnci = uptide.FES2014TidalInterpolator(tide2, os.environ['FES2014_DATA_PATH'])\n",
    "            series['FES2014 all specified'] = extract_series(tnci, (lat, 360. + lon), trange)\n",
    "            if 'FES2014' in series:\n",
    "                assert_equal(series['FES2014'], series['FES2014 all specified'])\n",
    "\n",
    "        pylab.figure()\n",
    "        for label, etas in series.items():\n",
    "            pylab.plot(trange/uptide.tidal.day, etas, label=label)\n",
    "        pylab.legend()\n",
    "        pylab.show()"
   ]
  },
  {
   "cell_type": "code",
   "execution_count": null,
   "metadata": {},
   "outputs": [],
   "source": [
    "            tnci = uptide.FES2014TidalInterpolator(os.environ['FES2014_INI_FILE'], include_long_period=False)\n"
   ]
  },
  {
   "cell_type": "code",
   "execution_count": null,
   "metadata": {},
   "outputs": [],
   "source": []
  }
 ],
 "metadata": {
  "kernelspec": {
   "display_name": "Python 3",
   "language": "python",
   "name": "python3"
  },
  "language_info": {
   "codemirror_mode": {
    "name": "ipython",
    "version": 3
   },
   "file_extension": ".py",
   "mimetype": "text/x-python",
   "name": "python",
   "nbconvert_exporter": "python",
   "pygments_lexer": "ipython3",
   "version": "3.6.7"
  }
 },
 "nbformat": 4,
 "nbformat_minor": 2
}
