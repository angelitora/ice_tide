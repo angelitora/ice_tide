{
 "cells": [
  {
   "cell_type": "code",
   "execution_count": 5,
   "metadata": {},
   "outputs": [],
   "source": [
    "import pytest\n",
    "import os\n",
    "import uptide.tidal_netcdf\n",
    "import uptide\n",
    "import datetime\n",
    "import numpy"
   ]
  },
  {
   "cell_type": "code",
   "execution_count": 10,
   "metadata": {},
   "outputs": [
    {
     "ename": "RuntimeError",
     "evalue": "Configuration file contains unhandled keys: TIDE_2N2_PHASE_LAG, TIDE_EPS2_PHASE_LAG, TIDE_J1_PHASE_LAG, TIDE_K1_PHASE_LAG, TIDE_K2_PHASE_LAG, TIDE_L2_PHASE_LAG, TIDE_M2_PHASE_LAG, TIDE_M3_PHASE_LAG, TIDE_M4_PHASE_LAG, TIDE_M6_PHASE_LAG, TIDE_M8_PHASE_LAG, TIDE_MF_PHASE_LAG, TIDE_MKS2_PHASE_LAG, TIDE_MM_PHASE_LAG, TIDE_MN4_PHASE_LAG, TIDE_MS4_PHASE_LAG, TIDE_MSF_PHASE_LAG, TIDE_MSQM_PHASE_LAG, TIDE_MTM_PHASE_LAG, TIDE_MU2_PHASE_LAG, TIDE_N2_PHASE_LAG, TIDE_N4_PHASE_LAG, TIDE_NU2_PHASE_LAG, TIDE_O1_PHASE_LAG, TIDE_P1_PHASE_LAG, TIDE_Q1_PHASE_LAG, TIDE_R2_PHASE_LAG, TIDE_S1_PHASE_LAG, TIDE_S2_PHASE_LAG, TIDE_S4_PHASE_LAG, TIDE_SA_PHASE_LAG, TIDE_SSA_PHASE_LAG, TIDE_T2_PHASE_LAG",
     "output_type": "error",
     "traceback": [
      "\u001b[0;31m---------------------------------------------------------------------------\u001b[0m",
      "\u001b[0;31mRuntimeError\u001b[0m                              Traceback (most recent call last)",
      "\u001b[0;32m<ipython-input-10-4e2abd3c5389>\u001b[0m in \u001b[0;36m<module>\u001b[0;34m\u001b[0m\n\u001b[1;32m      1\u001b[0m \u001b[0mtide\u001b[0m \u001b[0;34m=\u001b[0m \u001b[0muptide\u001b[0m\u001b[0;34m.\u001b[0m\u001b[0mTides\u001b[0m\u001b[0;34m(\u001b[0m\u001b[0muptide\u001b[0m\u001b[0;34m.\u001b[0m\u001b[0mALL_FES2014_TIDAL_CONSTITUENTS\u001b[0m\u001b[0;34m)\u001b[0m\u001b[0;34m\u001b[0m\u001b[0;34m\u001b[0m\u001b[0m\n\u001b[1;32m      2\u001b[0m \u001b[0mtide\u001b[0m\u001b[0;34m.\u001b[0m\u001b[0mset_initial_time\u001b[0m\u001b[0;34m(\u001b[0m\u001b[0mdatetime\u001b[0m\u001b[0;34m.\u001b[0m\u001b[0mdatetime\u001b[0m\u001b[0;34m(\u001b[0m\u001b[0;36m1975\u001b[0m\u001b[0;34m,\u001b[0m \u001b[0;36m10\u001b[0m\u001b[0;34m,\u001b[0m \u001b[0;36m24\u001b[0m\u001b[0;34m,\u001b[0m \u001b[0;36m0\u001b[0m\u001b[0;34m,\u001b[0m \u001b[0;36m0\u001b[0m\u001b[0;34m)\u001b[0m\u001b[0;34m)\u001b[0m\u001b[0;34m\u001b[0m\u001b[0;34m\u001b[0m\u001b[0m\n\u001b[0;32m----> 3\u001b[0;31m \u001b[0mtnci\u001b[0m \u001b[0;34m=\u001b[0m \u001b[0muptide\u001b[0m\u001b[0;34m.\u001b[0m\u001b[0mFES2014TidalInterpolator\u001b[0m\u001b[0;34m(\u001b[0m\u001b[0mtide\u001b[0m\u001b[0;34m,\u001b[0m \u001b[0;34m'/home/angel/tools/fes-2.9.1-Source/data/fes2014/ocean_tide/'\u001b[0m\u001b[0;34m)\u001b[0m\u001b[0;34m\u001b[0m\u001b[0;34m\u001b[0m\u001b[0m\n\u001b[0m",
      "\u001b[0;32m~/anaconda3/envs/earthtools/lib/python3.6/site-packages/uptide/fes_interpolator.py\u001b[0m in \u001b[0;36m__init__\u001b[0;34m(self, tide_or_fes_ini_file, fes_data_path, include_long_period)\u001b[0m\n\u001b[1;32m    114\u001b[0m             \u001b[0mself\u001b[0m\u001b[0;34m.\u001b[0m\u001b[0mset_initial_time\u001b[0m\u001b[0;34m(\u001b[0m\u001b[0mtide_or_fes_ini_file\u001b[0m\u001b[0;34m.\u001b[0m\u001b[0mdatetime0\u001b[0m\u001b[0;34m)\u001b[0m\u001b[0;34m\u001b[0m\u001b[0;34m\u001b[0m\u001b[0m\n\u001b[1;32m    115\u001b[0m             \u001b[0;32mwith\u001b[0m \u001b[0mtemporary_fes_ini_file\u001b[0m\u001b[0;34m(\u001b[0m\u001b[0mtide_or_fes_ini_file\u001b[0m\u001b[0;34m,\u001b[0m \u001b[0mfes_data_path\u001b[0m\u001b[0;34m)\u001b[0m \u001b[0;32mas\u001b[0m \u001b[0mf\u001b[0m\u001b[0;34m:\u001b[0m\u001b[0;34m\u001b[0m\u001b[0;34m\u001b[0m\u001b[0m\n\u001b[0;32m--> 116\u001b[0;31m                 \u001b[0mself\u001b[0m\u001b[0;34m.\u001b[0m\u001b[0mfh\u001b[0m \u001b[0;34m=\u001b[0m \u001b[0mfes\u001b[0m\u001b[0;34m.\u001b[0m\u001b[0mHandler\u001b[0m\u001b[0;34m(\u001b[0m\u001b[0;34m\"ocean\"\u001b[0m\u001b[0;34m,\u001b[0m \u001b[0;34m\"io\"\u001b[0m\u001b[0;34m,\u001b[0m \u001b[0mf\u001b[0m\u001b[0;34m.\u001b[0m\u001b[0mname\u001b[0m\u001b[0;34m)\u001b[0m\u001b[0;34m\u001b[0m\u001b[0;34m\u001b[0m\u001b[0m\n\u001b[0m\u001b[1;32m    117\u001b[0m         \u001b[0;32melse\u001b[0m\u001b[0;34m:\u001b[0m\u001b[0;34m\u001b[0m\u001b[0;34m\u001b[0m\u001b[0m\n\u001b[1;32m    118\u001b[0m             \u001b[0;32massert\u001b[0m \u001b[0mfes_data_path\u001b[0m \u001b[0;32mis\u001b[0m \u001b[0;32mNone\u001b[0m\u001b[0;34m,\u001b[0m \u001b[0;34m\"Do not provide fes_data_path if fes_ini_file is specified\"\u001b[0m\u001b[0;34m\u001b[0m\u001b[0;34m\u001b[0m\u001b[0m\n",
      "\u001b[0;32mextension/wrapper/fes.pyx\u001b[0m in \u001b[0;36mfes.Handler.__cinit__\u001b[0;34m()\u001b[0m\n",
      "\u001b[0;32mextension/wrapper/fes.pyx\u001b[0m in \u001b[0;36mfes.Handler._check\u001b[0;34m()\u001b[0m\n",
      "\u001b[0;31mRuntimeError\u001b[0m: Configuration file contains unhandled keys: TIDE_2N2_PHASE_LAG, TIDE_EPS2_PHASE_LAG, TIDE_J1_PHASE_LAG, TIDE_K1_PHASE_LAG, TIDE_K2_PHASE_LAG, TIDE_L2_PHASE_LAG, TIDE_M2_PHASE_LAG, TIDE_M3_PHASE_LAG, TIDE_M4_PHASE_LAG, TIDE_M6_PHASE_LAG, TIDE_M8_PHASE_LAG, TIDE_MF_PHASE_LAG, TIDE_MKS2_PHASE_LAG, TIDE_MM_PHASE_LAG, TIDE_MN4_PHASE_LAG, TIDE_MS4_PHASE_LAG, TIDE_MSF_PHASE_LAG, TIDE_MSQM_PHASE_LAG, TIDE_MTM_PHASE_LAG, TIDE_MU2_PHASE_LAG, TIDE_N2_PHASE_LAG, TIDE_N4_PHASE_LAG, TIDE_NU2_PHASE_LAG, TIDE_O1_PHASE_LAG, TIDE_P1_PHASE_LAG, TIDE_Q1_PHASE_LAG, TIDE_R2_PHASE_LAG, TIDE_S1_PHASE_LAG, TIDE_S2_PHASE_LAG, TIDE_S4_PHASE_LAG, TIDE_SA_PHASE_LAG, TIDE_SSA_PHASE_LAG, TIDE_T2_PHASE_LAG"
     ]
    }
   ],
   "source": [
    "tide = uptide.Tides(uptide.ALL_FES2014_TIDAL_CONSTITUENTS)\n",
    "tide.set_initial_time(datetime.datetime(1975, 10, 24, 0, 0))\n",
    "tnci = uptide.FES2014TidalInterpolator(tide, '/home/angel/tools/fes-2.9.1-Source/data/fes2014/ocean_tide/')"
   ]
  },
  {
   "cell_type": "code",
   "execution_count": 2,
   "metadata": {},
   "outputs": [],
   "source": [
    "lat = 64.15\n",
    "lon = -21.9333333\n",
    "dt0 = datetime.datetime(2008, 8, 12, 0, 0, 0)\n",
    "trange = numpy.arange(0., 24.*32., 0.25)*3600."
   ]
  },
  {
   "cell_type": "code",
   "execution_count": 4,
   "metadata": {},
   "outputs": [],
   "source": [
    "tnci = uptide.FES2014TidalInterpolator('/home/angel/tools/fes-2.9.1-Source/data/fes2014/ocean_tide.ini')"
   ]
  },
  {
   "cell_type": "code",
   "execution_count": null,
   "metadata": {},
   "outputs": [],
   "source": []
  },
  {
   "cell_type": "code",
   "execution_count": 4,
   "metadata": {},
   "outputs": [],
   "source": [
    "tnci.set_initial_time(dt0)"
   ]
  },
  {
   "cell_type": "code",
   "execution_count": 6,
   "metadata": {},
   "outputs": [],
   "source": [
    "tnci.set_time(100)"
   ]
  },
  {
   "cell_type": "code",
   "execution_count": null,
   "metadata": {},
   "outputs": [],
   "source": [
    "eta = tnci.get_val((lat, lon))"
   ]
  },
  {
   "cell_type": "code",
   "execution_count": 7,
   "metadata": {},
   "outputs": [
    {
     "data": {
      "text/plain": [
       "datetime.datetime(2008, 8, 12, 0, 1, 40)"
      ]
     },
     "execution_count": 7,
     "metadata": {},
     "output_type": "execute_result"
    }
   ],
   "source": [
    "tnci.current_datetime"
   ]
  },
  {
   "cell_type": "code",
   "execution_count": 9,
   "metadata": {},
   "outputs": [
    {
     "name": "stdout",
     "output_type": "stream",
     "text": [
      "Help on method get_val in module uptide.fes_interpolator:\n",
      "\n",
      "get_val(x) method of uptide.fes_interpolator.FES2014TidalInterpolator instance\n",
      "    Evaluate tide in location x=(lat, lon)\n",
      "    \n",
      "    Here -90<lat<90 and 0<lon<360.\n",
      "\n"
     ]
    }
   ],
   "source": [
    "help(tnci.get_val)"
   ]
  },
  {
   "cell_type": "code",
   "execution_count": 13,
   "metadata": {},
   "outputs": [
    {
     "ename": "TypeError",
     "evalue": "__init__() missing 1 required positional argument: 'tide_or_fes_ini_file'",
     "output_type": "error",
     "traceback": [
      "\u001b[0;31m---------------------------------------------------------------------------\u001b[0m",
      "\u001b[0;31mTypeError\u001b[0m                                 Traceback (most recent call last)",
      "\u001b[0;32m<ipython-input-13-e3b30e4aec21>\u001b[0m in \u001b[0;36m<module>\u001b[0;34m\u001b[0m\n\u001b[0;32m----> 1\u001b[0;31m \u001b[0muptide\u001b[0m\u001b[0;34m.\u001b[0m\u001b[0mfes_interpolator\u001b[0m\u001b[0;34m.\u001b[0m\u001b[0mFES2014TidalInterpolator\u001b[0m\u001b[0;34m(\u001b[0m\u001b[0;34m)\u001b[0m\u001b[0;34m\u001b[0m\u001b[0;34m\u001b[0m\u001b[0m\n\u001b[0m",
      "\u001b[0;31mTypeError\u001b[0m: __init__() missing 1 required positional argument: 'tide_or_fes_ini_file'"
     ]
    }
   ],
   "source": [
    "uptide.fes_interpolator.FES2014TidalInterpolator()"
   ]
  },
  {
   "cell_type": "code",
   "execution_count": null,
   "metadata": {},
   "outputs": [],
   "source": []
  }
 ],
 "metadata": {
  "kernelspec": {
   "display_name": "Python 3",
   "language": "python",
   "name": "python3"
  },
  "language_info": {
   "codemirror_mode": {
    "name": "ipython",
    "version": 3
   },
   "file_extension": ".py",
   "mimetype": "text/x-python",
   "name": "python",
   "nbconvert_exporter": "python",
   "pygments_lexer": "ipython3",
   "version": "3.6.7"
  }
 },
 "nbformat": 4,
 "nbformat_minor": 2
}
